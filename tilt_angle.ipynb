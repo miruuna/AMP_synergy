{
 "cells": [
  {
   "cell_type": "code",
   "execution_count": 8,
   "metadata": {},
   "outputs": [],
   "source": [
    "import os\n",
    "import utils_mda.seq_manipulation as seq_manipulation\n",
    "from importlib import reload\n",
    "reload(seq_manipulation)\n",
    "import MDAnalysis\n",
    "from MDAnalysis import analysis\n",
    "import numpy as np\n",
    "import pandas as pd\n",
    "import matplotlib.pyplot as plt\n",
    "import seaborn as sns\n",
    "from tqdm import tqdm\n",
    "from pathlib import Path\n",
    "import sys\n",
    "from MDAnalysis.analysis import leaflet\n",
    "from skspatial.objects import Line\n",
    "from skspatial.objects import Points\n",
    "from skspatial.plotting import plot_3d\n"
   ]
  },
  {
   "cell_type": "code",
   "execution_count": 51,
   "metadata": {},
   "outputs": [],
   "source": [
    "import math as m\n",
    "\n",
    "def get_vector(coord1, coord2):\n",
    "    return (coord1[0]-coord2[0], coord1[0]-coord2[1], coord1[0]-coord2[2])\n",
    "\n",
    "def vector_length(v):\n",
    "    return m.sqrt(sum((c ** 2) for c in v))\n",
    "\n",
    "def dot(v1, v2):\n",
    "    return sum([c1 * c2 for c1, c2 in zip(v1, v2)])\n",
    "\n",
    "def angle_between_vectors(v1, v2):\n",
    "    return m.acos(dot(v1, v2) / (vector_length(v1) * vector_length(v2))) * (180 / m.pi)\n",
    "\n",
    "\n",
    "def helix_tilt(u, peptide_name, num_peptides, membrane_type, results_folder):\n",
    "    peptides = [peptide_name.split('_')[0], peptide_name.split('_')[1]] if len(peptide_name.split('_'))>2 else [peptide_name.split('_')[0]]\n",
    "    pep_num_dict, _ = seq_manipulation.get_aa_sequence(u, peptides)\n",
    "\n",
    "    box = u.dimensions\n",
    "    x_memb, y_memb = box[0], box[1]\n",
    "    angle_list = []\n",
    "    for ts in tqdm(u.trajectory[::100]):\n",
    "        L = leaflet.LeafletFinder(u, 'name P')\n",
    "\n",
    "        z_memb = np.mean(L.groups(0).positions[:,[2]])\n",
    "        memb_vector = (x_memb, y_memb, z_memb)\n",
    "        \n",
    "\n",
    "        for pep, residues in pep_num_dict.items():\n",
    "            timecount1 = u.trajectory.time\n",
    "\n",
    "            c1 = u.select_atoms(f\"name CA and resid {residues[0]+1}\").positions\n",
    "            c2 = u.select_atoms(f\"name CA and resid {residues[-1]+1}\").positions\n",
    "           \n",
    "            pep_vector = get_vector([c1[:,[i]] for i in range (3)], [c2[:,[i]] for i in range (3)])\n",
    "\n",
    "\n",
    "            tilt_angle = angle_between_vectors(pep_vector, memb_vector)\n",
    "            angle_list.append((timecount1, pep , abs(90-tilt_angle)))\n",
    "    df = pd.DataFrame(angle_list, columns=[\"Time (ns)\", \"Peptide_num\", \"Angle\"])\n",
    "    df['Angle']= df['Angle'].astype(float)\n",
    "    df['Time (ns)'] = df['Time (ns)'].astype(float)/1000\n",
    "    df['Time (ns)'] = df['Time (ns)'].astype(int)\n",
    "\n",
    "    df.to_csv(f\"{results_folder}/tilt_angle_{peptide_name}_{membrane_type}.csv\")\n",
    "    return df\n",
    "\n",
    "\n",
    "def relative_tilt(u, peptide_name, num_peptides, membrane_type, results_folder):\n",
    "    peptides = [peptide_name.split('_')[0], peptide_name.split('_')[1]] if len(peptide_name.split('_'))>2 else [peptide_name.split('_')[0]]\n",
    "    pep_num_dict, seq_dict = seq_manipulation.get_aa_sequence(u, peptides)\n",
    "\n",
    "    box = u.dimensions\n",
    "    x_memb, y_memb = box[0], box[1]\n",
    "    angle_list = []\n",
    "    for ts in tqdm(u.trajectory[::500]):\n",
    "        L = leaflet.LeafletFinder(u, 'name P')\n",
    "\n",
    "        z_memb = np.mean(L.groups(0).positions[:,[2]])\n",
    "        memb_vector = (0, 0, 1)\n",
    "        \n",
    "        pep_num = ''\n",
    "        pep_coords = []\n",
    "        for pep, residues in pep_num_dict.items():\n",
    "            timecount1 = u.trajectory.time\n",
    "            for res_id in residues:\n",
    "                output1 = u.select_atoms(f\"name CA and resid {res_id+1}\").positions\n",
    "                pep_coords.append(output1[0])\n",
    "\n",
    "\n",
    "\n",
    "            points = Points(\n",
    "            pep_coords,\n",
    "            )\n",
    "\n",
    "            line_fit = Line.best_fit(points)\n",
    "            print(line_fit)\n",
    "            pep_vector = line_fit.vector\n",
    "            pep_vector = (pep_vector[0], pep_vector[1], pep_vector[2])\n",
    "            tilt_angle = angle_between_vectors(pep_vector, memb_vector)\n",
    "            angle_list.append((timecount1, pep , 90-tilt_angle))\n",
    "    df = pd.DataFrame(angle_list, columns=[\"Time (ns)\", \"Peptide_num\", \"Angle\"])\n",
    "    df['Angle']= df['Angle'].astype(float)\n",
    "    df['Time (ns)'] = df['Time (ns)'].astype(float)/1000\n",
    "    df['Time (ns)'] = df['Time (ns)'].astype(int)\n",
    "\n",
    "    df.to_csv(f\"{results_folder}/tilt_angle_{peptide_name}_{membrane_type}.csv\")\n",
    "    return df\n"
   ]
  },
  {
   "cell_type": "code",
   "execution_count": 52,
   "metadata": {},
   "outputs": [],
   "source": [
    "\n",
    "def calc_and_write_to_file(path, membrane_type, sims_type, single=None):\n",
    "    results_directory = f\"tilt/\"\n",
    "    Path(results_directory).mkdir(parents=True, exist_ok=True)\n",
    "    #create selection\n",
    "    all_tilt={}\n",
    "    if single == \"yes\":\n",
    "        if os.path.isdir(path):\n",
    "            peptide_name = os.path.basename(path)\n",
    "            print(f\"Starting calculations for single peptide -- {peptide_name}\")\n",
    "            peptide_path = path\n",
    "            u = seq_manipulation.get_universe(peptide_path)\n",
    "            pep_tilt = relative_tilt(u, peptide_name, 4, membrane_type, results_directory)\n",
    "            print(f\"{peptide_name} --- DONE\")\n",
    "            all_tilt[\"peptide_name\"] = pep_tilt\n",
    "    else:\n",
    "        print(f\"Starting calculations for multiple peptideß\")\n",
    "        for directory in tqdm(os.listdir(path)):\n",
    "            folder = os.path.join(path,directory)\n",
    "            if os.path.isdir(folder) and f\"_{membrane_type}\" in os.path.basename(folder):\n",
    "                peptide_path = folder\n",
    "                peptide_name = os.path.basename(peptide_path)\n",
    "                my_file = Path(f\"{results_directory}/zpos_{peptide_name}_{membrane_type}.csv\")\n",
    "                if my_file.is_file():\n",
    "                    print(f\"Results for {peptide_name} already exists! Skipping peptide.\")\n",
    "                    continue\n",
    "                print(f\"Starting calculations for peptide -- {peptide_name}\")\n",
    "                u = seq_manipulation.get_universe(peptide_path)\n",
    "                pep_tilt= relative_tilt(u, peptide_name, 4, membrane_type, results_directory)\n",
    "                print(f\"{peptide_name} --- DONE\")\n",
    "                all_tilt[\"peptide_name\"] = pep_tilt\n",
    "        if all_tilt:\n",
    "            df_pdf = pd.concat(all_tilt, axis=1).sum(axis=1, level=0)\n",
    "            df_pdf.to_csv(f\"{results_directory}/tilt_ALL_{sims_type}_{membrane_type}.csv\")\n",
    "        else:\n",
    "            sys.exit(\"No simulation folders found in the path provided!\")\n",
    "             "
   ]
  },
  {
   "cell_type": "code",
   "execution_count": 53,
   "metadata": {},
   "outputs": [
    {
     "name": "stdout",
     "output_type": "stream",
     "text": [
      "Starting calculations for single peptide -- WF1a_WF2_pg\n",
      "ENTERED FUNCTION\n",
      "FOUND TPRrS\n"
     ]
    },
    {
     "name": "stderr",
     "output_type": "stream",
     "text": [
      "  0%|          | 0/101 [00:00<?, ?it/s]"
     ]
    },
    {
     "name": "stdout",
     "output_type": "stream",
     "text": [
      "found U\n",
      "['WF1a', 'WF2']\n",
      "peptide_list2 ['WF1a', 'WF1a', 'WF1a', 'WF1a', 'WF2', 'WF2', 'WF2', 'WF2']\n",
      "Line(point=Point([17.458   , 55.191505, 99.630005], dtype=float32), direction=Vector([-0.9922298 ,  0.04776229,  0.1148859 ], dtype=float32))\n",
      "Line(point=Point([ 20.88625 ,  63.437004, 100.74151 ], dtype=float32), direction=Vector([-0.99585223, -0.08767722,  0.02431105], dtype=float32))\n",
      "Line(point=Point([ 38.754833,  49.497173, 100.398026], dtype=float32), direction=Vector([-0.84526896,  0.53319967,  0.03490753], dtype=float32))\n",
      "Line(point=Point([35.447502, 42.738884, 99.851395], dtype=float32), direction=Vector([-0.82184327,  0.56827503,  0.04046062], dtype=float32))\n",
      "Line(point=Point([47.82676 , 46.740677, 98.80173 ], dtype=float32), direction=Vector([-0.9934583 ,  0.09827595,  0.05815977], dtype=float32))\n"
     ]
    },
    {
     "name": "stderr",
     "output_type": "stream",
     "text": [
      "  1%|          | 1/101 [00:00<00:31,  3.16it/s]"
     ]
    },
    {
     "name": "stdout",
     "output_type": "stream",
     "text": [
      "Line(point=Point([48.231304, 48.504467, 99.04302 ], dtype=float32), direction=Vector([-0.9938282 ,  0.09521034,  0.05692583], dtype=float32))\n",
      "Line(point=Point([45.401863, 54.349503, 99.85493 ], dtype=float32), direction=Vector([-0.92936873,  0.36147964,  0.07487503], dtype=float32))\n",
      "Line(point=Point([47.22005, 56.81607, 99.77281], dtype=float32), direction=Vector([-0.8717317 ,  0.48462927,  0.07223779], dtype=float32))\n",
      "Line(point=Point([ 40.489998,  58.109997, 100.102   ], dtype=float32), direction=Vector([-0.9878439 ,  0.11178992,  0.10801613], dtype=float32))\n",
      "Line(point=Point([ 31.231247,  65.68025 , 101.27074 ], dtype=float32), direction=Vector([-0.98047996,  0.16940156,  0.09981046], dtype=float32))\n"
     ]
    },
    {
     "name": "stderr",
     "output_type": "stream",
     "text": [
      "  2%|▏         | 2/101 [00:00<00:32,  3.09it/s]"
     ]
    },
    {
     "name": "stdout",
     "output_type": "stream",
     "text": [
      "Line(point=Point([ 46.946667,  50.951504, 100.393   ], dtype=float32), direction=Vector([-0.82716084,  0.55759865,  0.06991894], dtype=float32))\n",
      "Line(point=Point([ 40.8115  ,  43.155876, 100.786125], dtype=float32), direction=Vector([-0.8430272 ,  0.5318884 ,  0.07999926], dtype=float32))\n",
      "Line(point=Point([ 50.18924 ,  46.423424, 100.282776], dtype=float32), direction=Vector([-0.9678481 ,  0.23719239,  0.08372433], dtype=float32))\n",
      "Line(point=Point([ 50.94854 ,  47.965454, 100.02845 ], dtype=float32), direction=Vector([-0.9700441 ,  0.22819354,  0.08332007], dtype=float32))\n",
      "Line(point=Point([46.742455, 50.84225 , 99.78211 ], dtype=float32), direction=Vector([-0.8874895 ,  0.45697683,  0.0594521 ], dtype=float32))\n",
      "Line(point=Point([48.591732, 51.355446, 99.428665], dtype=float32), direction=Vector([-0.5977123 ,  0.8010679 ,  0.03209737], dtype=float32))\n",
      "Line(point=Point([ 18.005001,  57.336006, 100.470505], dtype=float32), direction=Vector([-0.99152136,  0.08689226,  0.09661849], dtype=float32))\n",
      "Line(point=Point([ 20.809002,  65.18975 , 103.03926 ], dtype=float32), direction=Vector([-0.9975733 ,  0.03267738,  0.06147898], dtype=float32))\n",
      "Line(point=Point([ 38.049004,  52.78351 , 103.273506], dtype=float32), direction=Vector([-0.85530937,  0.51810557,  0.00353662], dtype=float32))\n",
      "Line(point=Point([ 35.221874,  45.237   , 103.72388 ], dtype=float32), direction=Vector([-0.8942105 ,  0.44764572, -0.0009408 ], dtype=float32))\n",
      "Line(point=Point([ 46.179897,  47.974392, 102.48838 ], dtype=float32), direction=Vector([-0.9911086 ,  0.12852111,  0.03443897], dtype=float32))\n"
     ]
    },
    {
     "name": "stderr",
     "output_type": "stream",
     "text": [
      "  3%|▎         | 3/101 [00:01<00:34,  2.86it/s]"
     ]
    },
    {
     "name": "stdout",
     "output_type": "stream",
     "text": [
      "Line(point=Point([ 47.656143,  48.552692, 102.21708 ], dtype=float32), direction=Vector([-0.9909415 ,  0.12921853,  0.03657193], dtype=float32))\n",
      "Line(point=Point([ 43.668255,  52.32381 , 102.15572 ], dtype=float32), direction=Vector([-0.94248533,  0.33329883,  0.02516611], dtype=float32))\n",
      "Line(point=Point([ 45.681717,  52.702274, 101.9781  ], dtype=float32), direction=Vector([-0.8576224 ,  0.5136816 ,  0.02480049], dtype=float32))\n"
     ]
    },
    {
     "name": "stderr",
     "output_type": "stream",
     "text": [
      "\n"
     ]
    },
    {
     "ename": "KeyboardInterrupt",
     "evalue": "",
     "output_type": "error",
     "traceback": [
      "\u001b[0;31m---------------------------------------------------------------------------\u001b[0m",
      "\u001b[0;31mKeyboardInterrupt\u001b[0m                         Traceback (most recent call last)",
      "\u001b[0;32m<ipython-input-53-96511a7ed379>\u001b[0m in \u001b[0;36m<module>\u001b[0;34m\u001b[0m\n\u001b[1;32m      3\u001b[0m         \u001b[0mfolder_name\u001b[0m  \u001b[0;34m=\u001b[0m \u001b[0;34m\"popg\"\u001b[0m \u001b[0;32mif\u001b[0m \u001b[0mmemb\u001b[0m \u001b[0;34m==\u001b[0m \u001b[0;34m\"pg\"\u001b[0m \u001b[0;32melse\u001b[0m \u001b[0;34m\"pepg\"\u001b[0m\u001b[0;34m\u001b[0m\u001b[0;34m\u001b[0m\u001b[0m\n\u001b[1;32m      4\u001b[0m         \u001b[0mp\u001b[0m\u001b[0;34m=\u001b[0m\u001b[0;34mf\"/Volumes/miru_backup/jade_2synergy/{folder_name}/{pep}_{memb}\"\u001b[0m\u001b[0;34m\u001b[0m\u001b[0;34m\u001b[0m\u001b[0m\n\u001b[0;32m----> 5\u001b[0;31m         \u001b[0mcalc_and_write_to_file\u001b[0m\u001b[0;34m(\u001b[0m\u001b[0mp\u001b[0m\u001b[0;34m,\u001b[0m \u001b[0mmemb\u001b[0m\u001b[0;34m,\u001b[0m \u001b[0;34m\"synergy\"\u001b[0m\u001b[0;34m,\u001b[0m \u001b[0msingle\u001b[0m\u001b[0;34m=\u001b[0m\u001b[0;34m\"yes\"\u001b[0m\u001b[0;34m)\u001b[0m\u001b[0;34m\u001b[0m\u001b[0;34m\u001b[0m\u001b[0m\n\u001b[0m",
      "\u001b[0;32m<ipython-input-52-d9fcdc420330>\u001b[0m in \u001b[0;36mcalc_and_write_to_file\u001b[0;34m(path, membrane_type, sims_type, single)\u001b[0m\n\u001b[1;32m     10\u001b[0m             \u001b[0mpeptide_path\u001b[0m \u001b[0;34m=\u001b[0m \u001b[0mpath\u001b[0m\u001b[0;34m\u001b[0m\u001b[0;34m\u001b[0m\u001b[0m\n\u001b[1;32m     11\u001b[0m             \u001b[0mu\u001b[0m \u001b[0;34m=\u001b[0m \u001b[0mseq_manipulation\u001b[0m\u001b[0;34m.\u001b[0m\u001b[0mget_universe\u001b[0m\u001b[0;34m(\u001b[0m\u001b[0mpeptide_path\u001b[0m\u001b[0;34m)\u001b[0m\u001b[0;34m\u001b[0m\u001b[0;34m\u001b[0m\u001b[0m\n\u001b[0;32m---> 12\u001b[0;31m             \u001b[0mpep_tilt\u001b[0m \u001b[0;34m=\u001b[0m \u001b[0mrelative_tilt\u001b[0m\u001b[0;34m(\u001b[0m\u001b[0mu\u001b[0m\u001b[0;34m,\u001b[0m \u001b[0mpeptide_name\u001b[0m\u001b[0;34m,\u001b[0m \u001b[0;36m4\u001b[0m\u001b[0;34m,\u001b[0m \u001b[0mmembrane_type\u001b[0m\u001b[0;34m,\u001b[0m \u001b[0mresults_directory\u001b[0m\u001b[0;34m)\u001b[0m\u001b[0;34m\u001b[0m\u001b[0;34m\u001b[0m\u001b[0m\n\u001b[0m\u001b[1;32m     13\u001b[0m             \u001b[0mprint\u001b[0m\u001b[0;34m(\u001b[0m\u001b[0;34mf\"{peptide_name} --- DONE\"\u001b[0m\u001b[0;34m)\u001b[0m\u001b[0;34m\u001b[0m\u001b[0;34m\u001b[0m\u001b[0m\n\u001b[1;32m     14\u001b[0m             \u001b[0mall_tilt\u001b[0m\u001b[0;34m[\u001b[0m\u001b[0;34m\"peptide_name\"\u001b[0m\u001b[0;34m]\u001b[0m \u001b[0;34m=\u001b[0m \u001b[0mpep_tilt\u001b[0m\u001b[0;34m\u001b[0m\u001b[0;34m\u001b[0m\u001b[0m\n",
      "\u001b[0;32m<ipython-input-51-273a27e0a0b0>\u001b[0m in \u001b[0;36mrelative_tilt\u001b[0;34m(u, peptide_name, num_peptides, membrane_type, results_folder)\u001b[0m\n\u001b[1;32m     66\u001b[0m             \u001b[0mtimecount1\u001b[0m \u001b[0;34m=\u001b[0m \u001b[0mu\u001b[0m\u001b[0;34m.\u001b[0m\u001b[0mtrajectory\u001b[0m\u001b[0;34m.\u001b[0m\u001b[0mtime\u001b[0m\u001b[0;34m\u001b[0m\u001b[0;34m\u001b[0m\u001b[0m\n\u001b[1;32m     67\u001b[0m             \u001b[0;32mfor\u001b[0m \u001b[0mres_id\u001b[0m \u001b[0;32min\u001b[0m \u001b[0mresidues\u001b[0m\u001b[0;34m:\u001b[0m\u001b[0;34m\u001b[0m\u001b[0;34m\u001b[0m\u001b[0m\n\u001b[0;32m---> 68\u001b[0;31m                 \u001b[0moutput1\u001b[0m \u001b[0;34m=\u001b[0m \u001b[0mu\u001b[0m\u001b[0;34m.\u001b[0m\u001b[0mselect_atoms\u001b[0m\u001b[0;34m(\u001b[0m\u001b[0;34mf\"name CA and resid {res_id+1}\"\u001b[0m\u001b[0;34m)\u001b[0m\u001b[0;34m.\u001b[0m\u001b[0mpositions\u001b[0m\u001b[0;34m\u001b[0m\u001b[0;34m\u001b[0m\u001b[0m\n\u001b[0m\u001b[1;32m     69\u001b[0m                 \u001b[0mpep_coords\u001b[0m\u001b[0;34m.\u001b[0m\u001b[0mappend\u001b[0m\u001b[0;34m(\u001b[0m\u001b[0moutput1\u001b[0m\u001b[0;34m[\u001b[0m\u001b[0;36m0\u001b[0m\u001b[0;34m]\u001b[0m\u001b[0;34m)\u001b[0m\u001b[0;34m\u001b[0m\u001b[0;34m\u001b[0m\u001b[0m\n\u001b[1;32m     70\u001b[0m \u001b[0;34m\u001b[0m\u001b[0m\n",
      "\u001b[0;32m~/opt/anaconda3/lib/python3.8/site-packages/MDAnalysis/core/universe.py\u001b[0m in \u001b[0;36mselect_atoms\u001b[0;34m(self, *args, **kwargs)\u001b[0m\n\u001b[1;32m    638\u001b[0m         \u001b[0;34m:\u001b[0m\u001b[0mmeth\u001b[0m\u001b[0;34m:\u001b[0m\u001b[0;31m`\u001b[0m\u001b[0mMDAnalysis\u001b[0m\u001b[0;34m.\u001b[0m\u001b[0mcore\u001b[0m\u001b[0;34m.\u001b[0m\u001b[0mgroups\u001b[0m\u001b[0;34m.\u001b[0m\u001b[0mAtomGroup\u001b[0m\u001b[0;34m.\u001b[0m\u001b[0mselect_atoms\u001b[0m\u001b[0;31m`\u001b[0m\u001b[0;34m\u001b[0m\u001b[0;34m\u001b[0m\u001b[0m\n\u001b[1;32m    639\u001b[0m         \"\"\"\n\u001b[0;32m--> 640\u001b[0;31m         \u001b[0;32mreturn\u001b[0m \u001b[0mself\u001b[0m\u001b[0;34m.\u001b[0m\u001b[0matoms\u001b[0m\u001b[0;34m.\u001b[0m\u001b[0mselect_atoms\u001b[0m\u001b[0;34m(\u001b[0m\u001b[0;34m*\u001b[0m\u001b[0margs\u001b[0m\u001b[0;34m,\u001b[0m \u001b[0;34m**\u001b[0m\u001b[0mkwargs\u001b[0m\u001b[0;34m)\u001b[0m\u001b[0;34m\u001b[0m\u001b[0;34m\u001b[0m\u001b[0m\n\u001b[0m\u001b[1;32m    641\u001b[0m \u001b[0;34m\u001b[0m\u001b[0m\n\u001b[1;32m    642\u001b[0m     \u001b[0;34m@\u001b[0m\u001b[0mproperty\u001b[0m\u001b[0;34m\u001b[0m\u001b[0;34m\u001b[0m\u001b[0m\n",
      "\u001b[0;32m~/opt/anaconda3/lib/python3.8/site-packages/MDAnalysis/core/groups.py\u001b[0m in \u001b[0;36mselect_atoms\u001b[0;34m(self, sel, periodic, rtol, atol, updating, sorted, rdkit_kwargs, *othersel, **selgroups)\u001b[0m\n\u001b[1;32m   3155\u001b[0m             \u001b[0;31m# Apply the first selection and sum to it\u001b[0m\u001b[0;34m\u001b[0m\u001b[0;34m\u001b[0m\u001b[0;34m\u001b[0m\u001b[0m\n\u001b[1;32m   3156\u001b[0m             atomgrp = sum([sel.apply(self) for sel in selections[1:]],\n\u001b[0;32m-> 3157\u001b[0;31m                           selections[0].apply(self))\n\u001b[0m\u001b[1;32m   3158\u001b[0m         \u001b[0;32mreturn\u001b[0m \u001b[0matomgrp\u001b[0m\u001b[0;34m\u001b[0m\u001b[0;34m\u001b[0m\u001b[0m\n\u001b[1;32m   3159\u001b[0m \u001b[0;34m\u001b[0m\u001b[0m\n",
      "\u001b[0;32m~/opt/anaconda3/lib/python3.8/site-packages/MDAnalysis/core/selection.py\u001b[0m in \u001b[0;36mapply\u001b[0;34m(self, *args, **kwargs)\u001b[0m\n\u001b[1;32m    179\u001b[0m \u001b[0;34m\u001b[0m\u001b[0m\n\u001b[1;32m    180\u001b[0m     \u001b[0;32mdef\u001b[0m \u001b[0mapply\u001b[0m\u001b[0;34m(\u001b[0m\u001b[0mself\u001b[0m\u001b[0;34m,\u001b[0m \u001b[0;34m*\u001b[0m\u001b[0margs\u001b[0m\u001b[0;34m,\u001b[0m \u001b[0;34m**\u001b[0m\u001b[0mkwargs\u001b[0m\u001b[0;34m)\u001b[0m\u001b[0;34m:\u001b[0m\u001b[0;34m\u001b[0m\u001b[0;34m\u001b[0m\u001b[0m\n\u001b[0;32m--> 181\u001b[0;31m         \u001b[0;32mreturn\u001b[0m \u001b[0mself\u001b[0m\u001b[0;34m.\u001b[0m\u001b[0m_apply\u001b[0m\u001b[0;34m(\u001b[0m\u001b[0;34m*\u001b[0m\u001b[0margs\u001b[0m\u001b[0;34m,\u001b[0m \u001b[0;34m**\u001b[0m\u001b[0mkwargs\u001b[0m\u001b[0;34m)\u001b[0m\u001b[0;34m.\u001b[0m\u001b[0masunique\u001b[0m\u001b[0;34m(\u001b[0m\u001b[0msorted\u001b[0m\u001b[0;34m=\u001b[0m\u001b[0mself\u001b[0m\u001b[0;34m.\u001b[0m\u001b[0mparser\u001b[0m\u001b[0;34m.\u001b[0m\u001b[0msorted\u001b[0m\u001b[0;34m)\u001b[0m\u001b[0;34m\u001b[0m\u001b[0;34m\u001b[0m\u001b[0m\n\u001b[0m\u001b[1;32m    182\u001b[0m \u001b[0;34m\u001b[0m\u001b[0m\n\u001b[1;32m    183\u001b[0m \u001b[0;34m\u001b[0m\u001b[0m\n",
      "\u001b[0;32m~/opt/anaconda3/lib/python3.8/site-packages/MDAnalysis/core/selection.py\u001b[0m in \u001b[0;36m_apply\u001b[0;34m(self, group)\u001b[0m\n\u001b[1;32m    188\u001b[0m     \u001b[0;32mdef\u001b[0m \u001b[0m_apply\u001b[0m\u001b[0;34m(\u001b[0m\u001b[0mself\u001b[0m\u001b[0;34m,\u001b[0m \u001b[0mgroup\u001b[0m\u001b[0;34m)\u001b[0m\u001b[0;34m:\u001b[0m\u001b[0;34m\u001b[0m\u001b[0;34m\u001b[0m\u001b[0m\n\u001b[1;32m    189\u001b[0m         \u001b[0mrsel\u001b[0m \u001b[0;34m=\u001b[0m \u001b[0mself\u001b[0m\u001b[0;34m.\u001b[0m\u001b[0mrsel\u001b[0m\u001b[0;34m.\u001b[0m\u001b[0mapply\u001b[0m\u001b[0;34m(\u001b[0m\u001b[0mgroup\u001b[0m\u001b[0;34m)\u001b[0m\u001b[0;34m\u001b[0m\u001b[0;34m\u001b[0m\u001b[0m\n\u001b[0;32m--> 190\u001b[0;31m         \u001b[0mlsel\u001b[0m \u001b[0;34m=\u001b[0m \u001b[0mself\u001b[0m\u001b[0;34m.\u001b[0m\u001b[0mlsel\u001b[0m\u001b[0;34m.\u001b[0m\u001b[0mapply\u001b[0m\u001b[0;34m(\u001b[0m\u001b[0mgroup\u001b[0m\u001b[0;34m)\u001b[0m\u001b[0;34m\u001b[0m\u001b[0;34m\u001b[0m\u001b[0m\n\u001b[0m\u001b[1;32m    191\u001b[0m \u001b[0;34m\u001b[0m\u001b[0m\n\u001b[1;32m    192\u001b[0m         \u001b[0;31m# Mask which lsel indices appear in rsel\u001b[0m\u001b[0;34m\u001b[0m\u001b[0;34m\u001b[0m\u001b[0;34m\u001b[0m\u001b[0m\n",
      "\u001b[0;32m~/opt/anaconda3/lib/python3.8/site-packages/MDAnalysis/core/selection.py\u001b[0m in \u001b[0;36mapply\u001b[0;34m(self, *args, **kwargs)\u001b[0m\n\u001b[1;32m    239\u001b[0m \u001b[0;34m\u001b[0m\u001b[0m\n\u001b[1;32m    240\u001b[0m     \u001b[0;32mdef\u001b[0m \u001b[0mapply\u001b[0m\u001b[0;34m(\u001b[0m\u001b[0mself\u001b[0m\u001b[0;34m,\u001b[0m \u001b[0;34m*\u001b[0m\u001b[0margs\u001b[0m\u001b[0;34m,\u001b[0m \u001b[0;34m**\u001b[0m\u001b[0mkwargs\u001b[0m\u001b[0;34m)\u001b[0m\u001b[0;34m:\u001b[0m\u001b[0;34m\u001b[0m\u001b[0;34m\u001b[0m\u001b[0m\n\u001b[0;32m--> 241\u001b[0;31m         \u001b[0;32mreturn\u001b[0m \u001b[0mself\u001b[0m\u001b[0;34m.\u001b[0m\u001b[0m_apply\u001b[0m\u001b[0;34m(\u001b[0m\u001b[0;34m*\u001b[0m\u001b[0margs\u001b[0m\u001b[0;34m,\u001b[0m \u001b[0;34m**\u001b[0m\u001b[0mkwargs\u001b[0m\u001b[0;34m)\u001b[0m\u001b[0;34m.\u001b[0m\u001b[0masunique\u001b[0m\u001b[0;34m(\u001b[0m\u001b[0msorted\u001b[0m\u001b[0;34m=\u001b[0m\u001b[0mself\u001b[0m\u001b[0;34m.\u001b[0m\u001b[0mparser\u001b[0m\u001b[0;34m.\u001b[0m\u001b[0msorted\u001b[0m\u001b[0;34m)\u001b[0m\u001b[0;34m\u001b[0m\u001b[0;34m\u001b[0m\u001b[0m\n\u001b[0m\u001b[1;32m    242\u001b[0m \u001b[0;34m\u001b[0m\u001b[0m\n\u001b[1;32m    243\u001b[0m \u001b[0;34m\u001b[0m\u001b[0m\n",
      "\u001b[0;32m~/opt/anaconda3/lib/python3.8/site-packages/MDAnalysis/core/selection.py\u001b[0m in \u001b[0;36m_apply\u001b[0;34m(self, group)\u001b[0m\n\u001b[1;32m    219\u001b[0m         \u001b[0;32mif\u001b[0m \u001b[0mlen\u001b[0m\u001b[0;34m(\u001b[0m\u001b[0mgroup\u001b[0m\u001b[0;34m)\u001b[0m \u001b[0;34m==\u001b[0m \u001b[0;36m0\u001b[0m\u001b[0;34m:\u001b[0m\u001b[0;34m\u001b[0m\u001b[0;34m\u001b[0m\u001b[0m\n\u001b[1;32m    220\u001b[0m             \u001b[0;32mreturn\u001b[0m \u001b[0mgroup\u001b[0m\u001b[0;34m\u001b[0m\u001b[0;34m\u001b[0m\u001b[0m\n\u001b[0;32m--> 221\u001b[0;31m         \u001b[0;32mreturn\u001b[0m \u001b[0mfunc\u001b[0m\u001b[0;34m(\u001b[0m\u001b[0mself\u001b[0m\u001b[0;34m,\u001b[0m \u001b[0mgroup\u001b[0m\u001b[0;34m)\u001b[0m\u001b[0;34m\u001b[0m\u001b[0;34m\u001b[0m\u001b[0m\n\u001b[0m\u001b[1;32m    222\u001b[0m     \u001b[0;32mreturn\u001b[0m \u001b[0m_apply\u001b[0m\u001b[0;34m\u001b[0m\u001b[0;34m\u001b[0m\u001b[0m\n\u001b[1;32m    223\u001b[0m \u001b[0;34m\u001b[0m\u001b[0m\n",
      "\u001b[0;32m~/opt/anaconda3/lib/python3.8/site-packages/MDAnalysis/core/selection.py\u001b[0m in \u001b[0;36m_apply\u001b[0;34m(self, group)\u001b[0m\n\u001b[1;32m    590\u001b[0m         \u001b[0;31m# iterate through set of known atom names, check which pass\u001b[0m\u001b[0;34m\u001b[0m\u001b[0;34m\u001b[0m\u001b[0;34m\u001b[0m\u001b[0m\n\u001b[1;32m    591\u001b[0m         \u001b[0;32mfor\u001b[0m \u001b[0mnm\u001b[0m\u001b[0;34m,\u001b[0m \u001b[0mix\u001b[0m \u001b[0;32min\u001b[0m \u001b[0mnmattr\u001b[0m\u001b[0;34m.\u001b[0m\u001b[0mnamedict\u001b[0m\u001b[0;34m.\u001b[0m\u001b[0mitems\u001b[0m\u001b[0;34m(\u001b[0m\u001b[0;34m)\u001b[0m\u001b[0;34m:\u001b[0m\u001b[0;34m\u001b[0m\u001b[0;34m\u001b[0m\u001b[0m\n\u001b[0;32m--> 592\u001b[0;31m             \u001b[0;32mif\u001b[0m \u001b[0many\u001b[0m\u001b[0;34m(\u001b[0m\u001b[0mfnmatch\u001b[0m\u001b[0;34m.\u001b[0m\u001b[0mfnmatchcase\u001b[0m\u001b[0;34m(\u001b[0m\u001b[0mnm\u001b[0m\u001b[0;34m,\u001b[0m \u001b[0mval\u001b[0m\u001b[0;34m)\u001b[0m \u001b[0;32mfor\u001b[0m \u001b[0mval\u001b[0m \u001b[0;32min\u001b[0m \u001b[0mself\u001b[0m\u001b[0;34m.\u001b[0m\u001b[0mvalues\u001b[0m\u001b[0;34m)\u001b[0m\u001b[0;34m:\u001b[0m\u001b[0;34m\u001b[0m\u001b[0;34m\u001b[0m\u001b[0m\n\u001b[0m\u001b[1;32m    593\u001b[0m                 \u001b[0mmatches\u001b[0m\u001b[0;34m.\u001b[0m\u001b[0mappend\u001b[0m\u001b[0;34m(\u001b[0m\u001b[0mix\u001b[0m\u001b[0;34m)\u001b[0m\u001b[0;34m\u001b[0m\u001b[0;34m\u001b[0m\u001b[0m\n\u001b[1;32m    594\u001b[0m \u001b[0;34m\u001b[0m\u001b[0m\n",
      "\u001b[0;32m~/opt/anaconda3/lib/python3.8/site-packages/MDAnalysis/core/selection.py\u001b[0m in \u001b[0;36m<genexpr>\u001b[0;34m(.0)\u001b[0m\n\u001b[1;32m    590\u001b[0m         \u001b[0;31m# iterate through set of known atom names, check which pass\u001b[0m\u001b[0;34m\u001b[0m\u001b[0;34m\u001b[0m\u001b[0;34m\u001b[0m\u001b[0m\n\u001b[1;32m    591\u001b[0m         \u001b[0;32mfor\u001b[0m \u001b[0mnm\u001b[0m\u001b[0;34m,\u001b[0m \u001b[0mix\u001b[0m \u001b[0;32min\u001b[0m \u001b[0mnmattr\u001b[0m\u001b[0;34m.\u001b[0m\u001b[0mnamedict\u001b[0m\u001b[0;34m.\u001b[0m\u001b[0mitems\u001b[0m\u001b[0;34m(\u001b[0m\u001b[0;34m)\u001b[0m\u001b[0;34m:\u001b[0m\u001b[0;34m\u001b[0m\u001b[0;34m\u001b[0m\u001b[0m\n\u001b[0;32m--> 592\u001b[0;31m             \u001b[0;32mif\u001b[0m \u001b[0many\u001b[0m\u001b[0;34m(\u001b[0m\u001b[0mfnmatch\u001b[0m\u001b[0;34m.\u001b[0m\u001b[0mfnmatchcase\u001b[0m\u001b[0;34m(\u001b[0m\u001b[0mnm\u001b[0m\u001b[0;34m,\u001b[0m \u001b[0mval\u001b[0m\u001b[0;34m)\u001b[0m \u001b[0;32mfor\u001b[0m \u001b[0mval\u001b[0m \u001b[0;32min\u001b[0m \u001b[0mself\u001b[0m\u001b[0;34m.\u001b[0m\u001b[0mvalues\u001b[0m\u001b[0;34m)\u001b[0m\u001b[0;34m:\u001b[0m\u001b[0;34m\u001b[0m\u001b[0;34m\u001b[0m\u001b[0m\n\u001b[0m\u001b[1;32m    593\u001b[0m                 \u001b[0mmatches\u001b[0m\u001b[0;34m.\u001b[0m\u001b[0mappend\u001b[0m\u001b[0;34m(\u001b[0m\u001b[0mix\u001b[0m\u001b[0;34m)\u001b[0m\u001b[0;34m\u001b[0m\u001b[0;34m\u001b[0m\u001b[0m\n\u001b[1;32m    594\u001b[0m \u001b[0;34m\u001b[0m\u001b[0m\n",
      "\u001b[0;32m~/opt/anaconda3/lib/python3.8/fnmatch.py\u001b[0m in \u001b[0;36mfnmatchcase\u001b[0;34m(name, pat)\u001b[0m\n\u001b[1;32m     68\u001b[0m     \u001b[0mits\u001b[0m \u001b[0marguments\u001b[0m\u001b[0;34m.\u001b[0m\u001b[0;34m\u001b[0m\u001b[0;34m\u001b[0m\u001b[0m\n\u001b[1;32m     69\u001b[0m     \"\"\"\n\u001b[0;32m---> 70\u001b[0;31m     \u001b[0mmatch\u001b[0m \u001b[0;34m=\u001b[0m \u001b[0m_compile_pattern\u001b[0m\u001b[0;34m(\u001b[0m\u001b[0mpat\u001b[0m\u001b[0;34m)\u001b[0m\u001b[0;34m\u001b[0m\u001b[0;34m\u001b[0m\u001b[0m\n\u001b[0m\u001b[1;32m     71\u001b[0m     \u001b[0;32mreturn\u001b[0m \u001b[0mmatch\u001b[0m\u001b[0;34m(\u001b[0m\u001b[0mname\u001b[0m\u001b[0;34m)\u001b[0m \u001b[0;32mis\u001b[0m \u001b[0;32mnot\u001b[0m \u001b[0;32mNone\u001b[0m\u001b[0;34m\u001b[0m\u001b[0;34m\u001b[0m\u001b[0m\n\u001b[1;32m     72\u001b[0m \u001b[0;34m\u001b[0m\u001b[0m\n",
      "\u001b[0;31mKeyboardInterrupt\u001b[0m: "
     ]
    }
   ],
   "source": [
    "\n",
    "for pep in [ \"WF1a_WF2\"]:\n",
    "    for memb in [ \"pg\"]:\n",
    "        folder_name  = \"popg\" if memb == \"pg\" else \"pepg\"\n",
    "        p=f\"/Volumes/miru_backup/jade_2synergy/{folder_name}/{pep}_{memb}\"\n",
    "        calc_and_write_to_file(p, memb, \"synergy\", single=\"yes\")"
   ]
  },
  {
   "cell_type": "code",
   "execution_count": null,
   "metadata": {},
   "outputs": [],
   "source": []
  }
 ],
 "metadata": {
  "interpreter": {
   "hash": "640c7ed0530f3f9897088c4c73bf62f5e6e015ea6a53c8c5e5acfc237cb9b8a0"
  },
  "kernelspec": {
   "display_name": "Python 3.8.3 ('base')",
   "language": "python",
   "name": "python3"
  },
  "language_info": {
   "codemirror_mode": {
    "name": "ipython",
    "version": 3
   },
   "file_extension": ".py",
   "mimetype": "text/x-python",
   "name": "python",
   "nbconvert_exporter": "python",
   "pygments_lexer": "ipython3",
   "version": "3.8.3"
  },
  "orig_nbformat": 4
 },
 "nbformat": 4,
 "nbformat_minor": 2
}
