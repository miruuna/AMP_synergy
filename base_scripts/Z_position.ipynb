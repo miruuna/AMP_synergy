{
 "cells": [
  {
   "cell_type": "markdown",
   "metadata": {},
   "source": [
    "<center><font size=\"+2\"><b><u> Relative peptide CA Z position </u></b></font></center>\n",
    "<br></br>\n",
    "<center> Negative values indicate insertion into the membrane </center>\n",
    "\n",
    "\n"
   ]
  },
  {
   "cell_type": "code",
   "execution_count": 3,
   "metadata": {},
   "outputs": [],
   "source": [
    "import MDAnalysis\n",
    "from MDAnalysis import analysis\n",
    "import numpy as np\n",
    "import pandas as pd\n",
    "import matplotlib.pyplot as plt\n",
    "import seaborn as sns\n",
    "from MDAnalysis.analysis import leaflet\n",
    "from tqdm import tqdm"
   ]
  },
  {
   "cell_type": "code",
   "execution_count": 10,
   "metadata": {},
   "outputs": [],
   "source": [
    "##gromacs configuration file###\n",
    "gro_file_path = ''\n",
    "##compressed trajectory file###\n",
    "xtc_file_path = ''\n",
    "u = MDAnalysis.Universe(gro_file_path, xtc_file_path, topology_format='GRO')\n",
    "\n",
    "#### IMPORTANT  #######\n",
    "# Specify number of peptides\n",
    "pep_num = ''\n",
    "\n",
    "if pep_num == '' or gro_file_path == '' or xtc_file_path == '':\n",
    "    print(\"YOU FORGOT to specify your trajectory paths or number of peptides\")"
   ]
  },
  {
   "cell_type": "code",
   "execution_count": 9,
   "metadata": {},
   "outputs": [],
   "source": [
    "def get_peptide_range(res_start, pep_len, pep_num):\n",
    "    \"\"\"\n",
    "    Creates a dictionary of the peptide and its respective residue ids e.g. {pep1:[1,2,3,4], pep2:[5,6,7]}\n",
    "\n",
    "    Parameters\n",
    "    ------------\n",
    "    res_start: int\n",
    "        The residue id of your first peptide residue\n",
    "    pep_len: in\n",
    "        Your peptide length\n",
    "    pep_num: int\n",
    "        Total number of peptides\n",
    "    \n",
    "\n",
    "    Return\n",
    "    -----------\n",
    "    pep_range: dict\n",
    "        Dictionary of peptide numbers as keys and the lists of the respective residue ids as keys\n",
    "\n",
    "    \"\"\"\n",
    "    pep_range = {}\n",
    "    for i in range(pep_num):\n",
    "        res_end = res_start+pep_len\n",
    "        pep_range[f\"pep{i+1}\"] = list(range(res_start, res_end))\n",
    "        res_start = res_end\n",
    "    return pep_range\n",
    "\n",
    "def get_aa_sequence(universe, pep_num):\n",
    "    \"\"\"\n",
    "    Parameters\n",
    "    ------------\n",
    "    universe: MDAnalysis Universe object\n",
    "    pep_num: int\n",
    "        How many peptides the simulation contains\n",
    "    \n",
    "    Return\n",
    "    ------------\n",
    "    pep_num_dict: dict\n",
    "        Dictionary of peptide numbers as keys and the lists of the respective residue ids as keys. \n",
    "    new_dict: dict\n",
    "        Dictionary of residue_id: respective three-letter amino acid code e.g. {1: 'PHE', 2: 'LEU' ...}\n",
    "    \"\"\"\n",
    "    protein_atoms = universe.select_atoms(\"protein\")\n",
    "    prot_residues = protein_atoms.residues\n",
    "    res_names = prot_residues.resnames\n",
    "    res_ids = prot_residues.residues.resids\n",
    "\n",
    "\n",
    "    pep_len = int(len(res_ids)/pep_num)\n",
    "    pep_num_dict = get_peptide_range(res_ids[0], pep_len, pep_num)\n",
    "    seq_dict = dict(zip(res_ids, res_names))\n",
    "\n",
    "    return pep_num_dict, seq_dict\n"
   ]
  },
  {
   "cell_type": "code",
   "execution_count": 56,
   "metadata": {},
   "outputs": [
    {
     "name": "stderr",
     "output_type": "stream",
     "text": [
      "  0%|          | 0/1 [00:00<?, ?it/s]"
     ]
    },
    {
     "name": "stdout",
     "output_type": "stream",
     "text": [
      "seq_dict is:  {1: 'PHE', 2: 'LEU', 3: 'GLY', 4: 'ALA', 5: 'LEU', 6: 'ILE', 7: 'LYS', 8: 'GLY', 9: 'ALA', 10: 'ILE', 11: 'HIS', 12: 'GLY', 13: 'GLY', 14: 'ARG', 15: 'PHE', 16: 'ILE', 17: 'HIS', 18: 'GLY', 19: 'MET', 20: 'ILE', 21: 'GLN', 22: 'ASN', 23: 'HIS', 24: 'HIS', 25: 'PHE', 26: 'LEU', 27: 'GLY', 28: 'ALA', 29: 'LEU', 30: 'ILE', 31: 'LYS', 32: 'GLY', 33: 'ALA', 34: 'ILE', 35: 'HIS', 36: 'GLY', 37: 'GLY', 38: 'ARG', 39: 'PHE', 40: 'ILE', 41: 'HIS', 42: 'GLY', 43: 'MET', 44: 'ILE', 45: 'GLN', 46: 'ASN', 47: 'HIS', 48: 'HIS', 49: 'PHE', 50: 'LEU', 51: 'GLY', 52: 'ALA', 53: 'LEU', 54: 'ILE', 55: 'LYS', 56: 'GLY', 57: 'ALA', 58: 'ILE', 59: 'HIS', 60: 'GLY', 61: 'GLY', 62: 'ARG', 63: 'PHE', 64: 'ILE', 65: 'HIS', 66: 'GLY', 67: 'MET', 68: 'ILE', 69: 'GLN', 70: 'ASN', 71: 'HIS', 72: 'HIS', 73: 'PHE', 74: 'LEU', 75: 'GLY', 76: 'ALA', 77: 'LEU', 78: 'ILE', 79: 'LYS', 80: 'GLY', 81: 'ALA', 82: 'ILE', 83: 'HIS', 84: 'GLY', 85: 'GLY', 86: 'ARG', 87: 'PHE', 88: 'ILE', 89: 'HIS', 90: 'GLY', 91: 'MET', 92: 'ILE', 93: 'GLN', 94: 'ASN', 95: 'HIS', 96: 'HIS'}\n"
     ]
    },
    {
     "name": "stderr",
     "output_type": "stream",
     "text": [
      "100%|██████████| 1/1 [00:00<00:00,  2.93it/s]\n"
     ]
    }
   ],
   "source": [
    "def relative_zpos(u, pep_num, peptide_name):\n",
    "    \"\"\"\n",
    "    Calculates the z position and saves it to a csv file.\n",
    "\n",
    "    Parameters\n",
    "    ------------\n",
    "    u: MDAnalysis universe object\n",
    "    pep_num: int\n",
    "        The number of peptides in the system\n",
    "    peptide_name: str\n",
    "        Name of your peptide and the resulting csv file \n",
    "    \n",
    "    Return\n",
    "    -----------\n",
    "    \"\"\"\n",
    "    # Get the dictionary of all residue id : amino acid type pairs\n",
    "    pep_num_dict, seq_dict = get_aa_sequence(u, pep_num)\n",
    "\n",
    "    # Print seq_dict to understand how it looks \n",
    "    print(\"seq_dict is: \", seq_dict)\n",
    "\n",
    "    # Find membrane leaflets\n",
    "    L = leaflet.LeafletFinder(u, 'name P')\n",
    "    \n",
    "    z_pos_list = []\n",
    "    # Loop through the trajectory\n",
    "    for ts in tqdm(u.trajectory[::50]):\n",
    "\n",
    "        # Find the mean z position of the upper leaflet (mean z pos of P) and lower leaflet\n",
    "        p_up = np.mean(L.groups(0).positions[:,[2]])\n",
    "        p_low = np.mean(L.groups(1).positions[:,[2]])\n",
    "\n",
    "        # Loop through all residues one at a time\n",
    "        for res_id, res_name in seq_dict.items():\n",
    "\n",
    "            timecount1 = u.trajectory.time\n",
    "\n",
    "            # Calculate the z pos of each residue one at a time\n",
    "            res_z_pos = np.mean(u.select_atoms(f\"name CA and resid {res_id}\").positions[:,[2]].astype(float))\n",
    "            amino_num = res_name\n",
    "  \n",
    "            # Create list that contains which peptide the residue is in e.g. 1 if it's in peptide 1 etc\n",
    "            pep = [k for k, v in pep_num_dict.items() if res_id in v][0]\n",
    "\n",
    "            # Determine the actual insertion of each residue\n",
    "            pep_insertion = res_z_pos - float(p_up)\n",
    "\n",
    "            # Deal with peptides that cross the pbc on the other side of the membrane\n",
    "            # This assumes that during the course of the sim the peptides don't actually go deeper than halfway through the membrane\n",
    "            if pep_insertion < 0 and abs(pep_insertion) > (float(p_up) - float(p_low))/2:\n",
    "                pep_insertion = float(p_low) - res_z_pos\n",
    "            \n",
    "            # Add all info about each residue insertion into a big list\n",
    "            z_pos_list.append((timecount1, pep , res_id,  amino_num, pep_insertion/10, p_up))\n",
    "\n",
    "    # Convert big list into a dataframe because it makes it easier to perform operations on the data and plot\n",
    "    df = pd.DataFrame(z_pos_list, columns=[\"Time (ns)\", \"Peptide_num\", \"Resid\", \"Residue\", \"CA Z position\", \"P\"])\n",
    "\n",
    "    # Convert to various types\n",
    "    df['Residue']= df['Residue'].astype('str')\n",
    "    df['Time (ns)'] = df['Time (ns)'].astype(float)/1000\n",
    "    df['Time (ns)'] = df['Time (ns)'].astype(int)\n",
    "    df['Resid'] = df['Resid'].astype(int)\n",
    "\n",
    "    # Calculate the length of each peptide\n",
    "    pep_len = int(len(seq_dict)/pep_num)\n",
    "\n",
    "    # Workout the equivalent residue numbers in each peptide e.g. using 4 peptides with  24 residues each \n",
    "    # and 96 residue total, workout the number of residue with resid 45 in peptide 2 - residue 45 would be \n",
    "    # residue number 21 in peptide 2. Useful for calculating average per residue number accross the peptides\n",
    "    df['Residue_number'] = df['Resid'].apply(lambda x: x%pep_len if  x%pep_len != 0 else pep_len)\n",
    "    # Save the data into a csv file\n",
    "    df.to_csv(f\"{peptide_name}.csv\")\n",
    "\n",
    "\n",
    "# Run function so the z-positions are calculated. Replace \"my_pep\" with the name you chose for your csv file - e.g. your peptide name \n",
    "# CSV files can be opened with excel\n",
    "relative_zpos(u, 4, \"my_pep\" )\n"
   ]
  },
  {
   "cell_type": "code",
   "execution_count": 57,
   "metadata": {},
   "outputs": [
    {
     "name": "stdout",
     "output_type": "stream",
     "text": [
      "Int64Index([100], dtype='int64', name='Time (ns)')\n"
     ]
    },
    {
     "data": {
      "image/png": "[encoded data removed]",
      "text/plain": [
       "<Figure size 432x288 with 2 Axes>"
      ]
     },
     "metadata": {
      "needs_background": "light"
     },
     "output_type": "display_data"
    }
   ],
   "source": [
    "# Plotting\n",
    "def plot_heatmaps(type_plot, peptide_name):\n",
    "\n",
    "    # Read the CSV file with the z position data\n",
    "    df = pd.read_csv(f\"{peptide_name}.csv\")\n",
    "\n",
    "    \"\"\"\n",
    "    Parameters\n",
    "    ------------\n",
    "    peptide_name: str\n",
    "        Name of peptie\n",
    "    outuput_name: str\n",
    "        Name of output/plot\n",
    "    type_plot: str\n",
    "        Choose one - average_by_peptide or average_by_residue or all \n",
    "    \"\"\"\n",
    "    if type_plot == \"average_by_peptide\":\n",
    "        df = df.groupby(['Peptide_num', 'Time (ns)'])['CA Z position'].mean().unstack(-1)\n",
    "    elif type_plot == \"average_by_residue\":\n",
    "        df['Res_amino'] = df['Residue_number'].astype(str) + df['Residue']\n",
    "        df = df.groupby(['Res_amino', 'Time (ns)'])['CA Z position'].mean().unstack(-1).sort_values(\n",
    "            by='Res_amino', key=lambda col: col.str[:-3].astype(int)\n",
    "        ,ascending=True)\n",
    "\n",
    "        # df.sort_values('Residue_number', inplace=True)\n",
    "        print(df.columns)\n",
    "\n",
    "\n",
    "\n",
    "\n",
    "    else:\n",
    "        df = df.groupby(['Resid','Time (ns)'])['CA Z position'].mean().unstack(-1)\n",
    "        plt.figure(figsize=(10,18))\n",
    "\n",
    "    sns.heatmap(df,cmap=\"coolwarm_r\", yticklabels=df.index).set_title(f\"{peptide_name}\")\n",
    "    plt.savefig(f'z_pos_{peptide_name}',bbox_inches=\"tight\")\n",
    "\n",
    "# instead of \"all\" you can use average_by_peptide or average_by_residue to plot different averages\n",
    "# instead of my pep use the name of your peptide - that would aappear on your plot \n",
    "plot_heatmaps(\"average_by_residue\", \"my_pep\")\n",
    "\n",
    "\n",
    "##### Because the z-pos data is written into a csv file and stored locally and plotting is now separated \n",
    "# from calculations, once you ran the cell with the relative_zpos() function once, and are happy with\n",
    "# the calculations, you won't need to run it again to generate different plots. If you want to generate \n",
    "# different plots e.g. average by residue, all peptides and all, you would just need to tun this cell\n",
    "# containing the plot_heatmaps() function"
   ]
  }
 ],
 "metadata": {
  "interpreter": {
   "hash": "640c7ed0530f3f9897088c4c73bf62f5e6e015ea6a53c8c5e5acfc237cb9b8a0"
  },
  "kernelspec": {
   "display_name": "Python 3.8.3 ('base')",
   "language": "python",
   "name": "python3"
  },
  "language_info": {
   "codemirror_mode": {
    "name": "ipython",
    "version": 3
   },
   "file_extension": ".py",
   "mimetype": "text/x-python",
   "name": "python",
   "nbconvert_exporter": "python",
   "pygments_lexer": "ipython3",
   "version": "3.8.3"
  }
 },
 "nbformat": 4,
 "nbformat_minor": 2
}
