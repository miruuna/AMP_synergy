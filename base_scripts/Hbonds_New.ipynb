{
 "cells": [
  {
   "cell_type": "code",
   "execution_count": 1,
   "metadata": {},
   "outputs": [
    {
     "name": "stdout",
     "output_type": "stream",
     "text": [
      "2.2.0\n"
     ]
    },
    {
     "name": "stderr",
     "output_type": "stream",
     "text": [
      "/Users/mirunaserian/opt/anaconda3/lib/python3.8/site-packages/MDAnalysis/analysis/hbonds/hbond_autocorrel.py:52: DeprecationWarning: This module was moved to MDAnalysis.analysis.hydrogenbonds.hbond_autocorrel; hbonds.hbond_autocorrel will be removed in 3.0.0.\n",
      "  warnings.warn(wmsg, category=DeprecationWarning)\n"
     ]
    }
   ],
   "source": [
    "import numpy as np\n",
    "import pandas as pd\n",
    "import matplotlib.pyplot as plt\n",
    "import seaborn as sns\n",
    "import MDAnalysis.analysis.hbonds\n",
    "from tqdm import tqdm\n",
    "from MDAnalysis.analysis.hydrogenbonds.hbond_analysis import (\n",
    "  HydrogenBondAnalysis as HBA)\n",
    "print(MDAnalysis.__version__)\n"
   ]
  },
  {
   "cell_type": "code",
   "execution_count": 2,
   "metadata": {},
   "outputs": [],
   "source": [
    "##gromacs configuration file###\n",
    "gro_file_path = \"/Volumes/miru_backup/jade_2synergy/popg/WF3_pg/md_0_1.tpr\"\n",
    "##compressed trajectory file###\n",
    "xtc_file_path = \"/Volumes/miru_backup/jade_2synergy/popg/WF3_pg/md_0_1_combined.xtc\"\n",
    "\n",
    "u = MDAnalysis.Universe(gro_file_path, xtc_file_path)\n",
    "\n",
    "#### IMPORTANT  #######\n",
    "# Specify number of peptides\n",
    "pep_num = 4\n",
    "\n",
    "if pep_num == '' or gro_file_path == '' or xtc_file_path == '':\n",
    "    print(\"YOU FORGOT to specify your trajectory paths or number of peptides\")"
   ]
  },
  {
   "cell_type": "code",
   "execution_count": 3,
   "metadata": {},
   "outputs": [],
   "source": [
    "def get_peptide_range(res_start, pep_len, pep_num):\n",
    "    \"\"\"\n",
    "    Creates a dictionary of the peptide and its respective residue ids e.g. {pep1:[1,2,3,4], pep2:[5,6,7]}\n",
    "\n",
    "    Parameters\n",
    "    ------------\n",
    "    res_start: int\n",
    "        The residue id of your first peptide residue\n",
    "    pep_len: in\n",
    "        Your peptide length\n",
    "    pep_num: int\n",
    "        Total number of peptides\n",
    "    \n",
    "    Return\n",
    "    -----------\n",
    "    pep_range: dict\n",
    "        Dictionary of peptide numbers as keys and the lists of the respective residue ids as keys\n",
    "\n",
    "    \"\"\"\n",
    "    pep_range = {}\n",
    "    for i in range(pep_num):\n",
    "        res_end = res_start+pep_len\n",
    "        pep_range[f\"pep{i+1}\"] = list(range(res_start, res_end))\n",
    "        res_start = res_end\n",
    "    return pep_range\n",
    "\n",
    "def get_aa_sequence(universe, pep_num):\n",
    "    \"\"\"\n",
    "    Parameters\n",
    "    ------------\n",
    "    universe: MDAnalysis Universe object\n",
    "    pep_num: int\n",
    "        How many peptides the simulation contains\n",
    "    \n",
    "    Return\n",
    "    ------------\n",
    "    pep_num_dict: dict\n",
    "        Dictionary of peptide numbers as keys and the lists of the respective residue ids as keys. \n",
    "    new_dict: dict\n",
    "        Dictionary of residue_id: respective three-letter amino acid code e.g. {1: 'PHE', 2: 'LEU' ...}\n",
    "    \"\"\"\n",
    "    protein_atoms = universe.select_atoms(\"protein\")\n",
    "    prot_residues = protein_atoms.residues\n",
    "    res_names = prot_residues.resnames\n",
    "    res_ids = prot_residues.residues.resids\n",
    "\n",
    "\n",
    "    pep_len = int(len(res_ids)/pep_num)\n",
    "    pep_num_dict = get_peptide_range(res_ids[0], pep_len, pep_num)\n",
    "    seq_dict = dict(zip(res_ids, res_names))\n",
    "\n",
    "    return pep_num_dict, seq_dict"
   ]
  },
  {
   "cell_type": "code",
   "execution_count": 5,
   "metadata": {},
   "outputs": [
    {
     "name": "stderr",
     "output_type": "stream",
     "text": [
      "100%|██████████| 96/96 [05:14<00:00,  3.28s/it]\n"
     ]
    }
   ],
   "source": [
    "\n",
    "def hbond_per_res(u, pep_num, peptide_name):\n",
    "    hbonds = []\n",
    "    pep_num_dict, seq_dict = get_aa_sequence(u, pep_num)\n",
    "\n",
    "    for res_id, res_name in tqdm(seq_dict.items()):\n",
    "        pep = [k for k, v in pep_num_dict.items() if res_id in v][0]\n",
    "\n",
    "        h_bonds = HBA(u, update_selections=True, between=[\"resname POPE or resname POPG\", f\"resid {res_id}\"])\n",
    "        protein_hydrogens_sel = h_bonds.guess_hydrogens(f\"resid {res_id}\")\n",
    "\n",
    "        protein_acceptors_sel = h_bonds.guess_acceptors(f\"resid {res_id}\")\n",
    "\n",
    "        membrane_hydrogens_sel = h_bonds.guess_hydrogens(\"resname POPE or resname POPG\")\n",
    "        membrane_acceptors_sel = h_bonds.guess_acceptors(\"resname POPE or resname POPG\")\n",
    "\n",
    "        if res_name == \"PRO\":\n",
    "            protein_hydrogens_sel = None\n",
    "            h_bonds.hydrogens_sel = f\"{membrane_hydrogens_sel}\"\n",
    "        else:\n",
    "            h_bonds.hydrogens_sel = f\"({protein_hydrogens_sel}) or ({membrane_hydrogens_sel})\"\n",
    "        h_bonds.acceptors_sel = f\"({protein_acceptors_sel}) or ({membrane_acceptors_sel})\"\n",
    "\n",
    "        # You can change the step here. You can increase it so that it actually does the calculations for less time points\n",
    "        # That will really shorten the amount of time needed to run (You can go higher, like up to 1000 or more)\n",
    "        h_bonds.run(step=10000)\n",
    "        \n",
    "        hydrogen_count = h_bonds.count_by_time()\n",
    "        time_count = h_bonds.times\n",
    "        for i in range(len(time_count)):\n",
    "            hbonds.append((pep, res_id, res_name, hydrogen_count[i], time_count[i]))\n",
    "\n",
    "    pep_len = int(len(seq_dict)/pep_num)\n",
    "    df = pd.DataFrame(hbonds) \n",
    "    df.columns = [\"Peptide_num\", \"Resid\", \"Residue\", \"Hbonds\", \"Time\"]\n",
    "    df['Time'] = df['Time'].astype(float)/1000\n",
    "    df['Time'] = df['Time'].astype(int)\n",
    "    df = df.rename(columns={\"Time\": \"Time (ns)\"})\n",
    "    df['Residue_number'] = df['Resid'].apply(lambda x: x%pep_len if  x%pep_len != 0 else pep_len)\n",
    "    df.to_csv(f\"hbonds_{peptide_name}.csv\")\n",
    "    return df\n",
    "\n",
    "# CHANGE THE NAME OF my_pep to the name of your peptide - that will appear on the plot\n",
    "df = hbond_per_res(u, pep_num, \"my_pep\")"
   ]
  },
  {
   "cell_type": "code",
   "execution_count": 10,
   "metadata": {},
   "outputs": [
    {
     "data": {
      "image/png": "[encoded data removed]",
      "text/plain": [
       "<Figure size 576x360 with 2 Axes>"
      ]
     },
     "metadata": {
      "needs_background": "light"
     },
     "output_type": "display_data"
    }
   ],
   "source": [
    "# Plotting\n",
    "def plot_heatmaps(type_plot, peptide_name):\n",
    "    \"\"\"\n",
    "    Parameters\n",
    "    ------------\n",
    "    peptide_name: str\n",
    "        Name of peptie\n",
    "    outuput_name: str\n",
    "        Name of output/plot\n",
    "    type_plot: str\n",
    "        Choose one - average_by_peptide or average_by_residue or all \n",
    "    \"\"\"\n",
    "\n",
    "    # Read the CSV file \n",
    "    df = pd.read_csv(f\"hbonds_{peptide_name}.csv\")\n",
    "    df = df.replace(np.nan, 0)\n",
    "    df = df.drop(columns=[\"Unnamed: 0\"])\n",
    "\n",
    "    fig, ax = plt.subplots(figsize=(8,5))\n",
    "\n",
    "    if type_plot == \"average_by_peptide\":\n",
    "        df = df.groupby(['Peptide_num', 'Time (ns)'])['Hbonds'].mean().unstack(-1)\n",
    "    elif type_plot == \"average_by_residue\":\n",
    "        df['Res_amino'] = df['Residue_number'].astype(str) + df['Residue']\n",
    "        df = df.groupby(['Res_amino', 'Time (ns)'])['Hbonds'].mean().unstack(-1).sort_values(\n",
    "            by='Res_amino', key=lambda col: col.str[:-3].astype(int) ,ascending=True)\n",
    "\n",
    "\n",
    "    else:\n",
    "        df = df.groupby(['Resid','Time (ns)'])['Hbonds'].mean().unstack(-1)\n",
    "        plt.figure(figsize=(10,18))\n",
    "\n",
    "    sns.heatmap(df,cmap=\"Blues\", cbar_kws={'label': \"Number of hydrogen bonds\"}, \n",
    "                yticklabels=df.index, ax=ax)\\\n",
    "                    .set_title(f\"Hydrogen Bonds {peptide_name}\")\n",
    "    plt.savefig(f'hbonds_{peptide_name}',bbox_inches=\"tight\")\n",
    "    ax.set_ylabel('Residue')\n",
    "# instead of \"all\" you can use average_by_peptide or average_by_residue to plot different averages\n",
    "# instead of my pep use the name of your peptide - that would aappear on your plot \n",
    "plot_heatmaps(\"average_by_residue\", \"my_pep\")\n"
   ]
  },
  {
   "cell_type": "code",
   "execution_count": null,
   "metadata": {},
   "outputs": [],
   "source": []
  }
 ],
 "metadata": {
  "kernelspec": {
   "display_name": "Python 3.8.3 ('base')",
   "language": "python",
   "name": "python3"
  },
  "language_info": {
   "codemirror_mode": {
    "name": "ipython",
    "version": 3
   },
   "file_extension": ".py",
   "mimetype": "text/x-python",
   "name": "python",
   "nbconvert_exporter": "python",
   "pygments_lexer": "ipython3",
   "version": "3.8.3"
  },
  "orig_nbformat": 4,
  "vscode": {
   "interpreter": {
    "hash": "640c7ed0530f3f9897088c4c73bf62f5e6e015ea6a53c8c5e5acfc237cb9b8a0"
   }
  }
 },
 "nbformat": 4,
 "nbformat_minor": 2
}
